{
 "cells": [
  {
   "cell_type": "code",
   "execution_count": 6,
   "metadata": {},
   "outputs": [],
   "source": [
    "from langchain_community.tools import ArxivQueryRun, WikipediaQueryRun\n",
    "from langchain_community.utilities  import  WikipediaAPIWrapper,ArxivAPIWrapper"
   ]
  },
  {
   "cell_type": "code",
   "execution_count": null,
   "metadata": {},
   "outputs": [],
   "source": []
  },
  {
   "cell_type": "code",
   "execution_count": 7,
   "metadata": {},
   "outputs": [
    {
     "name": "stdout",
     "output_type": "stream",
     "text": [
      "arxiv\n"
     ]
    }
   ],
   "source": [
    "api_wwrp_arxiv=ArxivAPIWrapper(top_k_results=2,doc_content_chars_max=500)\n",
    "arxiv=ArxivQueryRun(api_wrapper=api_wwrp_arxiv,description=\"Query arxiv papers\")\n",
    "print(arxiv.name)"
   ]
  },
  {
   "cell_type": "code",
   "execution_count": 8,
   "metadata": {},
   "outputs": [
    {
     "data": {
      "text/plain": [
       "'Published: 2023-05-23\\nTitle: Fast and energy-efficient non-volatile III-V-on-silicon photonic phase shifter based on memristors\\nAuthors: Zhuoran Fang, Bassem Tossoun, Antoine Descos, Di Liang, Xue Huang, Geza Kurczveil, Arka Majumdar, Raymond G. Beausoleil\\nSummary: Silicon photonics has evolved from lab research to commercial products in the\\npast decade as it plays an increasingly crucial role in data communication for\\nnext-generation data centers and high performance computing1. Recently,\\nprogr'"
      ]
     },
     "execution_count": 8,
     "metadata": {},
     "output_type": "execute_result"
    }
   ],
   "source": [
    "arxiv.invoke(\"What is the latest research on quantum computing?\")"
   ]
  },
  {
   "cell_type": "code",
   "execution_count": 9,
   "metadata": {},
   "outputs": [
    {
     "data": {
      "text/plain": [
       "'wikipedia'"
      ]
     },
     "execution_count": 9,
     "metadata": {},
     "output_type": "execute_result"
    }
   ],
   "source": [
    "api_wwraper_wikipedia=WikipediaAPIWrapper(top_k_results=1,doc_content_chars_max=500)\n",
    "wiki=WikipediaQueryRun(api_wrapper=api_wwraper_wikipedia)\n",
    "wiki.name"
   ]
  },
  {
   "cell_type": "code",
   "execution_count": 11,
   "metadata": {},
   "outputs": [],
   "source": [
    "from dotenv import load_dotenv\n",
    "load_dotenv()\n",
    "\n",
    "import os\n",
    "\n",
    "os.environ[\"TAVILY_API_KEY\"]=os.getenv(\"TAVILY_API_KEY\")\n",
    "os.environ[\"GROQ_API_KEY\"]=os.getenv(\"GROQ_API_KEY\")"
   ]
  },
  {
   "cell_type": "code",
   "execution_count": 12,
   "metadata": {},
   "outputs": [],
   "source": [
    "### Tavily Search Tool\n",
    "from langchain_community.tools.tavily_search import TavilySearchResults\n",
    "\n",
    "tavily = TavilySearchResults()"
   ]
  },
  {
   "cell_type": "code",
   "execution_count": 13,
   "metadata": {},
   "outputs": [
    {
     "data": {
      "text/plain": [
       "[{'title': 'Artificial Intelligence News - ScienceDaily',\n",
       "  'url': 'https://www.sciencedaily.com/news/computers_math/artificial_intelligence/',\n",
       "  'content': '### Thursday, April 3, 2025\\n\\n### Thursday, March 27, 2025\\n\\n### Wednesday, March 26, 2025\\n\\n### Tuesday, March 25, 2025\\n\\n### Thursday, March 20, 2025\\n\\n### Wednesday, March 19, 2025\\n\\n### Tuesday, March 18, 2025\\n\\n### Monday, March 17, 2025\\n\\n### Thursday, March 6, 2025\\n\\n### Wednesday, March 5, 2025\\n\\n### Tuesday, March 4, 2025\\n\\n### Thursday, February 27, 2025\\n\\n### Wednesday, February 26, 2025\\n\\n### Tuesday, February 25, 2025\\n\\n### Friday, February 21, 2025\\n\\n### Thursday, February 20, 2025 [...] ![ScienceDaily](/images/sd-logo.png)\\n\\n# Artificial Intelligence News\\n\\n## Top Headlines\\n\\n## Latest Headlines\\n\\n## Earlier Headlines\\n\\n### Wednesday, May 7, 2025\\n\\n### Tuesday, May 6, 2025\\n\\n### Monday, May 5, 2025\\n\\n### Thursday, May 1, 2025\\n\\n### Wednesday, April 30, 2025\\n\\n### Friday, April 25, 2025\\n\\n### Thursday, April 24, 2025\\n\\n### Wednesday, April 23, 2025\\n\\n### Tuesday, April 22, 2025\\n\\n### Tuesday, April 15, 2025\\n\\n### Monday, April 14, 2025\\n\\n### Wednesday, April 9, 2025\\n\\n### Tuesday, April 8, 2025 [...] ### Wednesday, February 19, 2025\\n\\n### Thursday, February 13, 2025\\n\\n### Monday, February 10, 2025\\n\\n### Monday, February 3, 2025\\n\\n### Wednesday, January 29, 2025\\n\\n### Tuesday, January 28, 2025\\n\\n### Monday, January 27, 2025\\n\\n### Tuesday, January 21, 2025\\n\\n### Thursday, January 16, 2025\\n\\n### Wednesday, January 15, 2025\\n\\n### Tuesday, January 14, 2025\\n\\n### Thursday, January 9, 2025\\n\\n### Wednesday, January 8, 2025\\n\\n### Monday, January 6, 2025\\n\\n### Thursday, January 2, 2025',\n",
       "  'score': 0.7001783},\n",
       " {'title': 'AI News | Latest AI News, Analysis & Events',\n",
       "  'url': 'https://www.artificialintelligence-news.com/',\n",
       "  'content': 'AI News reports on the latest artificial intelligence news and insights. Explore industry trends from the frontline of AI.',\n",
       "  'score': 0.650934},\n",
       " {'title': 'AI News & Artificial Intelligence - TechCrunch',\n",
       "  'url': 'https://techcrunch.com/category/artificial-intelligence/',\n",
       "  'content': \"### [Scale AI confirms ‘significant’ investment from Meta, says CEO Alexandr Wang is leaving](https://techcrunch.com/2025/06/13/scale-ai-confirms-significant-investment-from-meta-says-ceo-alexandr-wang-is-leaving/)\\n\\n![dripping Facebook Meta logo](https://techcrunch.com/wp-content/uploads/2021/12/dripping-meta-logo.jpg?w=668)\\n\\n### [The Meta AI app is a privacy disaster](https://techcrunch.com/2025/06/12/the-meta-ai-app-is-a-privacy-disaster/) [...] ### [Taiwan places export controls on Huawei and SMIC](https://techcrunch.com/2025/06/15/taiwan-places-export-controls-on-huawei-and-smic/)\\n\\n![The Google logo and lettering can be seen on the facade of the company's Munich headquarters.](https://techcrunch.com/wp-content/uploads/2025/02/GettyImages-2199793091.jpg?w=562)\\n\\n### [Google reportedly plans to cut ties with Scale AI](https://techcrunch.com/2025/06/14/google-reportedly-plans-to-cut-ties-with-scale-ai/) [...] ### [Meta’s V-JEPA 2 model teaches AI to understand its surroundings](https://techcrunch.com/2025/06/11/metas-v-jepa-2-model-teaches-ai-to-understand-its-surroundings/)\\n\\n![Micha Kaufman](https://techcrunch.com/wp-content/uploads/2019/02/L7ITAiGj.jpeg?w=562)\\n\\n### [Fiverr’s CEO on why AI is coming for everyone](https://techcrunch.com/podcast/fiverrs-ceo-on-why-ai-is-coming-for-everyone/)\\n\\n![](https://techcrunch.com/wp-content/uploads/2025/06/wwdc-craig-and-joz.jpg?w=649)\",\n",
       "  'score': 0.6399392},\n",
       " {'title': 'Artificial Intelligence | Latest News, Photos & Videos - WIRED',\n",
       "  'url': 'https://www.wired.com/tag/artificial-intelligence/',\n",
       "  'content': '### Facing a Changing Industry, AI Activists Rethink Their Strategy\\n\\n![Demis Hassabis Embraces the Future of Work in the Age of AI](https://media.wired.com/photos/683e039d7fcbfb59910b6706/3:2/w_1280%2Cc_limit/DSC09515.jpg)\\n\\n### Demis Hassabis Embraces the Future of Work in the Age of AI\\n\\n### Deepfake Scams Are Distorting Reality Itself\\n\\n![The Rise of ‘Vibe Hacking’ Is the Next AI Nightmare](https://media.wired.com/photos/683dde00bb81c8212495c31b/3:2/w_1280%2Cc_limit/WIRED%2520STILL%252002.png) [...] ### AI Chatbots Are Making LA Protest Disinformation Worse\\n\\n![A Political Battle Is Brewing Over Data Centers](https://media.wired.com/photos/684036ef4c253f09088b983a/3:2/w_1280%2Cc_limit/GettyImages-2213382270.jpg)\\n\\n### A Political Battle Is Brewing Over Data Centers\\n\\n![Apple Is Pushing AI Into More of Its Products&-but Still Lacks a State-of-the-Art Model](https://media.wired.com/photos/684726c94c3cf40b5be20abf/3:2/w_1280%2Cc_limit/Apple-WWDC25-Apple-Intelligence-hero-250609.jpg) [...] ![Suspect in Minnesota Shooting Linked to Security Company, Evangelical Ministry](https://media.wired.com/photos/684da283710eb34aeedd4a0f/1:1/w_350%2Ch_350%2Cc_limit/undefined)\\n![‘No Kings’ Protests, Citizen-Run ICE Trackers Trigger Intelligence Warnings](https://media.wired.com/photos/684c620eba46e2b6a438cbff/1:1/w_350%2Ch_350%2Cc_limit/undefined)\\n![Vibe Coding Is Coming for Engineering Jobs](https://media.wired.com/photos/683df76aff7a44319182c1be/1:1/w_350%2Ch_350%2Cc_limit/undefined)',\n",
       "  'score': 0.62824833},\n",
       " {'title': 'Artificial intelligence - NBC News',\n",
       "  'url': 'https://www.nbcnews.com/artificial-intelligence',\n",
       "  'content': \"## [Hollywood giants sue AI image firm for unlicensed use of 'Star Wars,' 'The Simpsons' and more](https://www.nbcnews.com/business/business-news/disney-universal-sue-ai-image-company-midjourney-unlicensed-star-wars-rcna212369)\\n\\n## AI NEWS\\n\\n![Corporate CEO's Speak At The Hill & Valley Forum On Capitol Hill](https://media-cldnry.s-nbcnews.com/image/upload/t_focal-80x80,f_auto,q_auto:best/rockcms/2025-06/250605-alex-karp-ew-154p-0546d9.jpg) [...] ## Nvidia CEO hails Trump's plan to rescind some export curbs on AI chips to China\\n\\n![Jensen Huang](https://media-cldnry.s-nbcnews.com/image/upload/t_focal-200x100,f_auto,q_auto:best/rockcms/2025-05/250521-Jensen-Huang-RS-5faf64.jpg)\\n![Jensen Huang](https://media-cldnry.s-nbcnews.com/image/upload/t_focal-200x100,f_auto,q_auto:best/rockcms/2025-05/250521-Jensen-Huang-RS-5faf64.jpg)\\n\\n## Google I/O 2025: Gemini AI, Android XR glasses, Google Beam, Project Astra, Chrome and deep search news [...] ![](https://media-cldnry.s-nbcnews.com/image/upload/t_focal-260x130,f_auto,q_auto:best/mpx/2704722219/2025_03/1743128535176_now_staytuned_man_chatgpt_complaint_250327_1920x1080-fhevmx.jpg)\\n\\n## 02:35\\n\\n### [Man files complaint after ChatGPT falsely claimed he murdered his children](https://www.nbcnews.com/now/video/man-files-complaint-after-chatgpt-falsely-claimed-he-murdered-his-children-235630661781)\\n\\n## NBC News NOW\\n\\n## MORE AI NEWS\",\n",
       "  'score': 0.6158511}]"
      ]
     },
     "execution_count": 13,
     "metadata": {},
     "output_type": "execute_result"
    }
   ],
   "source": [
    "tavily.invoke(\"Provide me the recent AI news?\")"
   ]
  },
  {
   "cell_type": "code",
   "execution_count": 14,
   "metadata": {},
   "outputs": [],
   "source": [
    "## combine all these tools in the list\n",
    "tools=[arxiv, wiki, tavily]"
   ]
  },
  {
   "cell_type": "code",
   "execution_count": 15,
   "metadata": {},
   "outputs": [],
   "source": [
    "## Initialize the LLM Model\n",
    "from langchain_groq import ChatGroq\n",
    "\n",
    "llm=ChatGroq(model=\"qwen-qwq-32b\")"
   ]
  },
  {
   "cell_type": "code",
   "execution_count": 16,
   "metadata": {},
   "outputs": [
    {
     "data": {
      "text/plain": [
       "AIMessage(content='\\n<think>\\nOkay, the user is asking, \"What is AI?\" Let me start by defining AI in simple terms. I should explain that AI stands for Artificial Intelligence. Then I need to mention the key areas it involves, like computer science, engineering, and mathematics. Maybe I should break down the core concepts: mimicking human cognitive functions, problem-solving, learning, and reasoning.\\n\\nWait, I should make sure to differentiate between general AI and narrow AI. Oh right, narrow AI is what we have now, like voice assistants. General AI is still theoretical. I should explain both to give a clear picture.\\n\\nApplications are important too. Listing examples like healthcare, finance, and gaming could help the user understand where AI is used. Also, mentioning machine learning and deep learning as subsets would be useful. I need to clarify that machine learning is a method of achieving AI, and deep learning is a part of that.\\n\\nDon\\'t forget to touch on the goals of AI, such as creating intelligent agents that can perceive their environment and take actions to maximize success. Maybe include some challenges, like ethical considerations and the need for data. Also, mention how AI can improve efficiency and solve complex problems.\\n\\nHmm, should I structure this into sections? Maybe start with a definition, then core concepts, types of AI, applications, related fields, and current challenges. That way it\\'s organized and easy to follow. But since the user might just want a straightforward answer, I should keep it concise but comprehensive.\\n\\nWait, I should also make sure not to use too much jargon. Since the question is basic, the explanation should be accessible. Avoid going too deep into technical details unless necessary. Maybe use analogies, like comparing AI to how humans learn from experience.\\n\\nAlso, mention common examples the user might encounter daily, like recommendation systems on Netflix or virtual assistants like Siri. That makes it relatable. Highlighting the difference between AI and human intelligence could be important to avoid confusion.\\n\\nI should also note that AI can automate tasks, analyze data, and make decisions, but it\\'s limited by its programming and data. Ethical aspects like bias in AI and job displacement are relevant to current discussions, so including that adds depth.\\n\\nLet me check if I\\'m missing anything. The historical context might not be needed here unless the user asks for it. The main points are definition, how it works, types, uses, and current considerations. Okay, that should cover the user\\'s question without overwhelming them.\\n</think>\\n\\n**Artificial Intelligence (AI)** refers to the simulation of human intelligence in machines. These machines are designed to perform tasks that typically require human-like cognitive abilities, such as learning from data, problem-solving, recognizing patterns, and decision-making. AI enables computers to \"think\" and act in ways that mimic human behavior, albeit with limitations.\\n\\n---\\n\\n### **Core Concepts**:\\n1. **Learning**: AI systems can improve their performance over time by analyzing data (e.g., learning to recognize faces in photos).\\n2. **Reasoning**: They can make decisions, solve problems, or draw conclusions based on available information.\\n3. **Adaptation**: They adjust to new inputs and data to optimize outputs (e.g., self-driving cars adapting to traffic changes).\\n4. **Perception**: They interpret sensory data (e.g., voice recognition or image processing).\\n\\n---\\n\\n### **Types of AI**:\\n1. **Narrow AI (Weak AI)**:  \\n   - Focuses on a single task.  \\n   - **Examples**:  \\n     - Virtual assistants (e.g., Siri, Alexa).  \\n     - Recommendation systems (e.g., Netflix, Amazon).  \\n     - Self-driving cars (e.g., Tesla).  \\n\\n2. **General AI (Strong AI)**:  \\n   - Hypothetical systems that can perform *any* intellectual task a human can.  \\n   - Not yet achieved; still in research and development.  \\n   - Goal: Achieve human-level reasoning, creativity, and consciousness.\\n\\n---\\n\\n### **How AI Works**:\\n- **Machine Learning (ML)**: A subset of AI where systems learn from data without explicit programming.  \\n  - **Example**: Spam filters learning to identify unwanted emails.  \\n- **Deep Learning**: A type of ML using neural networks to model complex patterns (e.g., image recognition in medical diagnostics).  \\n- **Natural Language Processing (NLP)**: Enabling machines to understand human language (e.g., chatbots, translation tools).\\n\\n---\\n\\n### **Applications of AI**:\\n- **Healthcare**: Diagnosing diseases, drug discovery, and personalized treatment plans.  \\n- **Finance**: Fraud detection, algorithmic trading, and risk assessment.  \\n- **Transportation**: Autonomous vehicles and logistics optimization.  \\n- **Entertainment**: Video game NPCs, content recommendations, and AI-generated art.  \\n- **Education**: Personalized learning platforms and grading systems.\\n\\n---\\n\\n### **Key Challenges & Considerations**:\\n- **Data Dependency**: AI systems require large, high-quality datasets to function effectively.  \\n- **Ethics**: Issues like bias, privacy concerns, and accountability (e.g., biased facial recognition systems).  \\n- **Job Displacement**: Automation could replace certain roles, necessitating re-skilling.  \\n- **Safety**: Ensuring AI systems don’t malfunction or act against human interests.\\n\\n---\\n\\n### **Common Misconceptions**:\\n- **AI ≠ Consciousness**: AI lacks self-awareness or emotions.  \\n- **AI ≠ Magic**: It relies on algorithms and data—it’s not \"intelligent\" in the human sense.  \\n\\n---\\n\\n### **Future of AI**:\\n- Potential breakthroughs in healthcare, climate modeling, and space exploration.  \\n- Ongoing debates about regulation, transparency, and responsible AI development.\\n\\nIn summary, AI is a tool that enhances human capabilities, but its development requires careful consideration of ethical, social, and technical challenges.', additional_kwargs={}, response_metadata={'token_usage': {'completion_tokens': 1191, 'prompt_tokens': 13, 'total_tokens': 1204, 'completion_time': 2.7538240370000002, 'prompt_time': 0.002715198, 'queue_time': 0.272698661, 'total_time': 2.756539235}, 'model_name': 'qwen-qwq-32b', 'system_fingerprint': 'fp_18a313a21d', 'finish_reason': 'stop', 'logprobs': None}, id='run--38624549-180c-46fc-b63c-f4aa2748f08c-0', usage_metadata={'input_tokens': 13, 'output_tokens': 1191, 'total_tokens': 1204})"
      ]
     },
     "execution_count": 16,
     "metadata": {},
     "output_type": "execute_result"
    }
   ],
   "source": [
    "llm.invoke(\"What is AI\")"
   ]
  },
  {
   "cell_type": "code",
   "execution_count": 17,
   "metadata": {},
   "outputs": [],
   "source": [
    "llm_with_tools=llm.bind_tools(tools=tools)"
   ]
  },
  {
   "cell_type": "code",
   "execution_count": 18,
   "metadata": {},
   "outputs": [
    {
     "data": {
      "text/plain": [
       "AIMessage(content='', additional_kwargs={'tool_calls': [{'id': 'hzj8akdt7', 'function': {'arguments': '{\"query\":\"recent news on AI\"}', 'name': 'tavily_search_results_json'}, 'type': 'function'}]}, response_metadata={'token_usage': {'completion_tokens': 247, 'prompt_tokens': 270, 'total_tokens': 517, 'completion_time': 0.577754242, 'prompt_time': 0.020037193, 'queue_time': 0.344796647, 'total_time': 0.597791435}, 'model_name': 'qwen-qwq-32b', 'system_fingerprint': 'fp_a91d9c2cfb', 'finish_reason': 'tool_calls', 'logprobs': None}, id='run--e6ef1ed4-4c6d-41cb-a3f8-6ce979b61257-0', tool_calls=[{'name': 'tavily_search_results_json', 'args': {'query': 'recent news on AI'}, 'id': 'hzj8akdt7', 'type': 'tool_call'}], usage_metadata={'input_tokens': 270, 'output_tokens': 247, 'total_tokens': 517})"
      ]
     },
     "execution_count": 18,
     "metadata": {},
     "output_type": "execute_result"
    }
   ],
   "source": [
    "## Execute this call\n",
    "llm_with_tools.invoke(\"What is the recent news on AI?\")"
   ]
  },
  {
   "cell_type": "code",
   "execution_count": 19,
   "metadata": {},
   "outputs": [],
   "source": [
    "## State Schema\n",
    "from typing_extensions import TypedDict\n",
    "from langchain_core.messages import AnyMessage ## Human message or AI message\n",
    "from typing import Annotated  ## labelling\n",
    "from langgraph.graph.message import add_messages  ## Reducers in Langgraph"
   ]
  },
  {
   "cell_type": "code",
   "execution_count": 20,
   "metadata": {},
   "outputs": [],
   "source": [
    "class State(TypedDict):\n",
    "    messages: Annotated[list[AnyMessage], add_messages]"
   ]
  },
  {
   "cell_type": "code",
   "execution_count": 21,
   "metadata": {},
   "outputs": [],
   "source": [
    "### Entire Chatbot With LangGraph\n",
    "from IPython.display import Image, display\n",
    "from langgraph.graph import StateGraph, START, END\n",
    "from langgraph.prebuilt import ToolNode\n",
    "from langgraph.prebuilt import tools_condition"
   ]
  },
  {
   "cell_type": "code",
   "execution_count": 22,
   "metadata": {},
   "outputs": [
    {
     "data": {
      "image/png": "[encoded data removed]",
      "text/plain": [
       "<IPython.core.display.Image object>"
      ]
     },
     "metadata": {},
     "output_type": "display_data"
    }
   ],
   "source": [
    "### Node definition\n",
    "def tool_calling_llm(state:State):\n",
    "    return {\"messages\":[llm_with_tools.invoke(state[\"messages\"])]}\n",
    "\n",
    "# Build graph\n",
    "builder = StateGraph(State)\n",
    "builder.add_node(\"tool_calling_llm\", tool_calling_llm)\n",
    "builder.add_node(\"tools\", ToolNode(tools))\n",
    "\n",
    "## Edgess\n",
    "builder.add_edge(START, \"tool_calling_llm\")\n",
    "builder.add_conditional_edges(\n",
    "    \"tool_calling_llm\",\n",
    "    # If the latest message (result) from assistant is a tool call -> tools_condition routes to tools\n",
    "    # If the latest message (result) from assistant is a not a tool call -> tools_condition routes to END\n",
    "    tools_condition,\n",
    ")\n",
    "builder.add_edge(\"tools\", END)\n",
    "\n",
    "graph = builder.compile()\n",
    "\n",
    "# View\n",
    "display(Image(graph.get_graph().draw_mermaid_png()))"
   ]
  },
  {
   "cell_type": "code",
   "execution_count": 23,
   "metadata": {},
   "outputs": [
    {
     "name": "stdout",
     "output_type": "stream",
     "text": [
      "================================\u001b[1m Human Message \u001b[0m=================================\n",
      "\n",
      "1706.03762\n",
      "==================================\u001b[1m Ai Message \u001b[0m==================================\n",
      "Tool Calls:\n",
      "  arxiv (9rneay473)\n",
      " Call ID: 9rneay473\n",
      "  Args:\n",
      "    query: 1706.03762\n",
      "=================================\u001b[1m Tool Message \u001b[0m=================================\n",
      "Name: arxiv\n",
      "\n",
      "Published: 2023-08-02\n",
      "Title: Attention Is All You Need\n",
      "Authors: Ashish Vaswani, Noam Shazeer, Niki Parmar, Jakob Uszkoreit, Llion Jones, Aidan N. Gomez, Lukasz Kaiser, Illia Polosukhin\n",
      "Summary: The dominant sequence transduction models are based on complex recurrent or\n",
      "convolutional neural networks in an encoder-decoder configuration. The best\n",
      "performing models also connect the encoder and decoder through an attention\n",
      "mechanism. We propose a new simple network architecture, the Transformer, base\n"
     ]
    }
   ],
   "source": [
    "messages=graph.invoke({\"messages\":\"1706.03762\"})\n",
    "for m in messages['messages']:\n",
    "    m.pretty_print()"
   ]
  },
  {
   "cell_type": "code",
   "execution_count": 24,
   "metadata": {},
   "outputs": [
    {
     "name": "stdout",
     "output_type": "stream",
     "text": [
      "================================\u001b[1m Human Message \u001b[0m=================================\n",
      "\n",
      "Hi My name is Krish\n",
      "==================================\u001b[1m Ai Message \u001b[0m==================================\n",
      "\n",
      "Hi Krish! Nice to meet you. How can I assist you today?\n"
     ]
    }
   ],
   "source": [
    "messages=graph.invoke({\"messages\":\"Hi My name is Krish\"})\n",
    "for m in messages['messages']:\n",
    "    m.pretty_print()"
   ]
  },
  {
   "cell_type": "code",
   "execution_count": 25,
   "metadata": {},
   "outputs": [
    {
     "data": {
      "image/png": "[encoded data removed]",
      "text/plain": [
       "<IPython.core.display.Image object>"
      ]
     },
     "metadata": {},
     "output_type": "display_data"
    }
   ],
   "source": [
    "### Node definition\n",
    "def tool_calling_llm(state:State):\n",
    "    return {\"messages\":[llm_with_tools.invoke(state[\"messages\"])]}\n",
    "\n",
    "# Build graph\n",
    "builder = StateGraph(State)\n",
    "builder.add_node(\"tool_calling_llm\", tool_calling_llm)\n",
    "builder.add_node(\"tools\", ToolNode(tools))\n",
    "\n",
    "## Edgess\n",
    "builder.add_edge(START, \"tool_calling_llm\")\n",
    "builder.add_conditional_edges(\n",
    "    \"tool_calling_llm\",\n",
    "    # If the latest message (result) from assistant is a tool call -> tools_condition routes to tools\n",
    "    # If the latest message (result) from assistant is a not a tool call -> tools_condition routes to END\n",
    "    tools_condition,\n",
    ")\n",
    "builder.add_edge(\"tools\", \"tool_calling_llm\")\n",
    "\n",
    "graph = builder.compile()\n",
    "\n",
    "# View\n",
    "display(Image(graph.get_graph().draw_mermaid_png()))"
   ]
  },
  {
   "cell_type": "code",
   "execution_count": 26,
   "metadata": {},
   "outputs": [
    {
     "name": "stdout",
     "output_type": "stream",
     "text": [
      "================================\u001b[1m Human Message \u001b[0m=================================\n",
      "\n",
      "What is the recent AI news and then please tell me the recent research paper on quantum computing?\n",
      "==================================\u001b[1m Ai Message \u001b[0m==================================\n",
      "Tool Calls:\n",
      "  tavily_search_results_json (8zjcmq6vy)\n",
      " Call ID: 8zjcmq6vy\n",
      "  Args:\n",
      "    query: recent AI news\n",
      "  arxiv (wrf2dnbrc)\n",
      " Call ID: wrf2dnbrc\n",
      "  Args:\n",
      "    query: recent quantum computing research papers\n",
      "=================================\u001b[1m Tool Message \u001b[0m=================================\n",
      "Name: tavily_search_results_json\n",
      "\n",
      "[{\"title\": \"Latest AI Breakthroughs and News: May-June 2025 - Crescendo.ai\", \"url\": \"https://www.crescendo.ai/news/latest-ai-news-and-updates\", \"content\": \"**Date:** June 1, 2025  \\n**Summary:** Ukraine reportedly used AI-enhanced drone swarms in a covert mission dubbed âOperation Spider Webâ to target a Russian bomber. The drones, said to cost as little as the price of an iPhone 16 Pro, represent a new phase of low-cost autonomous warfare. [...] **Date:** May 30, 2025  \\n**Summary:** Nvidia CEO Jensen Huang issued a bold warning about the rapid evolution of AI, emphasizing that people who fail to adopt AI in their workflow risk being replaced by those who do. His comments underline the urgency for upskilling in a transforming job market. [...] **Date:** May 31, 2025  \\n**Summary:** Monash University has announced a landmark investment in an AI supercomputer, becoming the first higher education institute in Australia to do so. The system will significantly accelerate national research across AI, medicine, and engineering fields.\", \"score\": 0.8763069}]\n",
      "=================================\u001b[1m Tool Message \u001b[0m=================================\n",
      "Name: arxiv\n",
      "\n",
      "Published: 2024-11-22\n",
      "Title: Who is Funding Indian Research? A look at major funding sources acknowledged in Indian research papers\n",
      "Authors: Vivek Kumar Singh, Prashasti Singh, Anurag Kanaujia, Abhirup Nandy\n",
      "Summary: Science and scientific research activities, in addition to the involvement of\n",
      "the researchers, require resources like research infrastructure, materials and\n",
      "reagents, databases and computational tools, journal subscriptions and\n",
      "publication charges etc. In order to meet these require\n",
      "==================================\u001b[1m Ai Message \u001b[0m==================================\n",
      "\n",
      "Here's the information based on the tools I accessed:\n",
      "\n",
      "**Recent AI News (as of June 2025):**\n",
      "1. **AI-Enhanced Drone Swarms in Ukraine**  \n",
      "   - Ukraine deployed AI-powered drone swarms in \"Operation Spider Web,\" targeting a Russian bomber. These drones are reported to cost as little as an iPhone 16 Pro, marking a shift toward low-cost autonomous warfare.\n",
      "\n",
      "2. **Nvidia's Jensen Huang Warns of AI's Impact on Employment**  \n",
      "   - Nvidia’s CEO emphasized that those resisting AI adoption risk obsolescence, urging upskilling amid rapid AI-driven workplace changes.\n",
      "\n",
      "3. **Monash University’s AI Supercomputer**  \n",
      "   - Australia’s first university to invest in an AI supercomputer, accelerating research in AI, medicine, and engineering.\n",
      "\n",
      "---\n",
      "\n",
      "**Quantum Computing Research Paper (Issue Detected):**  \n",
      "The research paper retrieved from arXiv is titled *\"Who is Funding Indian Research?\"* (published November 2024), but it focuses on funding sources for Indian research papers, **not quantum computing**. This suggests either an error in the tool’s response or insufficient specificity in the search query. For accurate results, I recommend:  \n",
      "- Retrying the search with precise terms like *\"quantum computing 2024-2025\"* in arXiv.  \n",
      "- Checking platforms like [arXiv.org](https://arxiv.org/) directly with keywords such as *\"quantum error correction\"* or *\"quantum machine learning\"*.  \n",
      "\n",
      "Let me know if you’d like me to refine the search further!\n"
     ]
    }
   ],
   "source": [
    "messages=graph.invoke({\"messages\":\"What is the recent AI news and then please tell me the recent research paper on quantum computing?\"})\n",
    "for m in messages['messages']:\n",
    "    m.pretty_print()"
   ]
  }
 ],
 "metadata": {
  "kernelspec": {
   "display_name": "onnx-env",
   "language": "python",
   "name": "python3"
  },
  "language_info": {
   "codemirror_mode": {
    "name": "ipython",
    "version": 3
   },
   "file_extension": ".py",
   "mimetype": "text/x-python",
   "name": "python",
   "nbconvert_exporter": "python",
   "pygments_lexer": "ipython3",
   "version": "3.10.16"
  }
 },
 "nbformat": 4,
 "nbformat_minor": 2
}
