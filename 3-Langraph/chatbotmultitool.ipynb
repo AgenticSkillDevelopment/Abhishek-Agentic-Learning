{
 "cells": [
  {
   "cell_type": "code",
   "execution_count": 1,
   "metadata": {},
   "outputs": [],
   "source": [
    "from langchain_community.tools import ArxivQueryRun, WikipediaQueryRun\n",
    "from langchain_community.utilities  import  WikipediaAPIWrapper,ArxivAPIWrapper"
   ]
  },
  {
   "cell_type": "code",
   "execution_count": null,
   "metadata": {},
   "outputs": [],
   "source": []
  },
  {
   "cell_type": "code",
   "execution_count": 2,
   "metadata": {},
   "outputs": [
    {
     "name": "stdout",
     "output_type": "stream",
     "text": [
      "arxiv\n"
     ]
    }
   ],
   "source": [
    "api_wwrp_arxiv=ArxivAPIWrapper(top_k_results=2,doc_content_chars_max=500)\n",
    "arxiv=ArxivQueryRun(api_wrapper=api_wwrp_arxiv,description=\"Query arxiv papers\")\n",
    "print(arxiv.name)"
   ]
  },
  {
   "cell_type": "code",
   "execution_count": 3,
   "metadata": {},
   "outputs": [
    {
     "data": {
      "text/plain": [
       "'Published: 2023-05-23\\nTitle: Fast and energy-efficient non-volatile III-V-on-silicon photonic phase shifter based on memristors\\nAuthors: Zhuoran Fang, Bassem Tossoun, Antoine Descos, Di Liang, Xue Huang, Geza Kurczveil, Arka Majumdar, Raymond G. Beausoleil\\nSummary: Silicon photonics has evolved from lab research to commercial products in the\\npast decade as it plays an increasingly crucial role in data communication for\\nnext-generation data centers and high performance computing1. Recently,\\nprogr'"
      ]
     },
     "execution_count": 3,
     "metadata": {},
     "output_type": "execute_result"
    }
   ],
   "source": [
    "arxiv.invoke(\"What is the latest research on quantum computing?\")"
   ]
  },
  {
   "cell_type": "code",
   "execution_count": 4,
   "metadata": {},
   "outputs": [
    {
     "data": {
      "text/plain": [
       "'wikipedia'"
      ]
     },
     "execution_count": 4,
     "metadata": {},
     "output_type": "execute_result"
    }
   ],
   "source": [
    "api_wwraper_wikipedia=WikipediaAPIWrapper(top_k_results=1,doc_content_chars_max=500)\n",
    "wiki=WikipediaQueryRun(api_wrapper=api_wwraper_wikipedia)\n",
    "wiki.name"
   ]
  },
  {
   "cell_type": "code",
   "execution_count": 5,
   "metadata": {},
   "outputs": [],
   "source": [
    "from dotenv import load_dotenv\n",
    "load_dotenv()\n",
    "\n",
    "import os\n",
    "\n",
    "os.environ[\"TAVILY_API_KEY\"]=os.getenv(\"TAVILY_API_KEY\")\n",
    "os.environ[\"GROQ_API_KEY\"]=os.getenv(\"GROQ_API_KEY\")"
   ]
  },
  {
   "cell_type": "code",
   "execution_count": 6,
   "metadata": {},
   "outputs": [
    {
     "name": "stderr",
     "output_type": "stream",
     "text": [
      "C:\\Users\\Dell\\AppData\\Local\\Temp\\ipykernel_10252\\3584238.py:4: LangChainDeprecationWarning: The class `TavilySearchResults` was deprecated in LangChain 0.3.25 and will be removed in 1.0. An updated version of the class exists in the :class:`~langchain-tavily package and should be used instead. To use it run `pip install -U :class:`~langchain-tavily` and import as `from :class:`~langchain_tavily import TavilySearch``.\n",
      "  tavily = TavilySearchResults()\n"
     ]
    }
   ],
   "source": [
    "### Tavily Search Tool\n",
    "from langchain_community.tools.tavily_search import TavilySearchResults\n",
    "\n",
    "tavily = TavilySearchResults()"
   ]
  },
  {
   "cell_type": "code",
   "execution_count": 7,
   "metadata": {},
   "outputs": [
    {
     "data": {
      "text/plain": [
       "[{'title': 'AI News & Artificial Intelligence - TechCrunch',\n",
       "  'url': 'https://techcrunch.com/category/artificial-intelligence/',\n",
       "  'content': '### [Scale AI confirms ‘significant’ investment from Meta, says CEO Alexandr Wang is leaving](https://techcrunch.com/2025/06/13/scale-ai-confirms-significant-investment-from-meta-says-ceo-alexandr-wang-is-leaving/)\\n\\n![dripping Facebook Meta logo](https://techcrunch.com/wp-content/uploads/2021/12/dripping-meta-logo.jpg?w=668)\\n\\n### [The Meta AI app is a privacy disaster](https://techcrunch.com/2025/06/12/the-meta-ai-app-is-a-privacy-disaster/) [...] ### [Spiraling with ChatGPT](https://techcrunch.com/2025/06/15/spiraling-with-chatgpt/)\\n\\n![Huawei Sign at MWC 2023](https://techcrunch.com/wp-content/uploads/2023/02/20230228_162746.jpg?w=500)\\n\\n### [Taiwan places export controls on Huawei and SMIC](https://techcrunch.com/2025/06/15/taiwan-places-export-controls-on-huawei-and-smic/)\\n\\n![Google sign](https://techcrunch.com/wp-content/uploads/2024/12/GettyImages-1935927066.jpg?w=563) [...] ### [Apple is salvaging Image Playground with a boost from ChatGPT](https://techcrunch.com/2025/06/11/apple-is-salvaging-image-playground-with-a-boost-from-chatgpt/)\\n\\n![Coco Robotics, robots, delivery robots](https://techcrunch.com/wp-content/uploads/2025/06/GettyImages-2182735330.jpg?w=562)\\n\\n### [Sam Altman-backed Coco Robotics raises $80M](https://techcrunch.com/2025/06/11/sam-altman-backed-coco-robotics-raises-80m/)',\n",
       "  'score': 0.6399392},\n",
       " {'title': 'Artificial Intelligence | Latest News, Photos & Videos - WIRED',\n",
       "  'url': 'https://www.wired.com/tag/artificial-intelligence/',\n",
       "  'content': '### Facing a Changing Industry, AI Activists Rethink Their Strategy\\n\\n![Demis Hassabis Embraces the Future of Work in the Age of AI](https://media.wired.com/photos/683e039d7fcbfb59910b6706/3:2/w_1280%2Cc_limit/DSC09515.jpg)\\n\\n### Demis Hassabis Embraces the Future of Work in the Age of AI\\n\\n### Deepfake Scams Are Distorting Reality Itself\\n\\n![The Rise of ‘Vibe Hacking’ Is the Next AI Nightmare](https://media.wired.com/photos/683dde00bb81c8212495c31b/3:2/w_1280%2Cc_limit/WIRED%2520STILL%252002.png) [...] ### AI Chatbots Are Making LA Protest Disinformation Worse\\n\\n![A Political Battle Is Brewing Over Data Centers](https://media.wired.com/photos/684036ef4c253f09088b983a/3:2/w_1280%2Cc_limit/GettyImages-2213382270.jpg)\\n\\n### A Political Battle Is Brewing Over Data Centers\\n\\n![Apple Is Pushing AI Into More of Its Products&-but Still Lacks a State-of-the-Art Model](https://media.wired.com/photos/684726c94c3cf40b5be20abf/3:2/w_1280%2Cc_limit/Apple-WWDC25-Apple-Intelligence-hero-250609.jpg)',\n",
       "  'score': 0.62824833},\n",
       " {'title': 'Artificial intelligence - NBC News',\n",
       "  'url': 'https://www.nbcnews.com/artificial-intelligence',\n",
       "  'content': \"The latest news and top stories on artificial intelligence, including AI chatbots like Microsoft's ChatGPT, Apple's AI Chatbot and Google's Bard.\",\n",
       "  'score': 0.6211049},\n",
       " {'title': 'Artificial Intelligence - The New York Times',\n",
       "  'url': 'https://www.nytimes.com/spotlight/artificial-intelligence',\n",
       "  'content': 'A.I. has yet to upend Hollywood. But it is starting to make big inroads in animation.\\n\\n\\xa0By Brooks Barnes\\n\\n![](https://static01.nyt.com/images/2025/04/14/14visualUploader-75672-cover/14visualUploader-75672-cover-square640-v2.jpg?auto=webp)\\n\\n[Google Unveils A.I. Chatbot, Signaling a New Era for Search](/2025/05/20/technology/personaltech/google-ai-mode-search.html)\\n\\nThe tech giant is taking its next big step in artificial intelligence by adding interactive capabilities to its flagship product. [...] ![Mark Zuckerberg’s new A.I. lab aims to hire some of the top A.I. researchers in the world.](https://static01.nyt.com/images/2025/06/12/multimedia/00biz-superintelligence-ljkv/00biz-superintelligence-ljkv-smallSquare252.jpg?auto=webp)\\n\\n### [This A.I. Company Wants to Take Your Job](/2025/06/11/technology/ai-mechanize-jobs.html)\\n\\nMechanize, a San Francisco start-up, is building artificial intelligence tools to automate white-collar jobs “as fast as possible.”\\n\\n\\xa0By Kevin Roose [...] By Tripp Mickle\\n\\n![Sundar Pichai, the chief executive of Google, spoke on Tuesday about the company’s plans to bring more generative A.I. abilities to its flagship search product during its annual developers conference. ](https://static01.nyt.com/images/2025/05/20/multimedia/20biz-google-sundar-lbtm/20biz-google-sundar-lbtm-square640.jpg?auto=webp)\\n\\n[A New App Uses A.I. to Speed Jewelry Design](/2025/05/20/fashion/jewelry-blng-artificial-intelligence-app.html)',\n",
       "  'score': 0.59796065},\n",
       " {'title': 'Artificial Intelligence - Latest AI News and Analysis - WSJ.com',\n",
       "  'url': 'https://www.wsj.com/tech/ai?gaa_at=eafs&gaa_n=ASWzDAgu5j4SoKxGHd55VUk1EzQtlEJXoc5MS1FyE4Q1iTB-Tk44vrAG6BxZ&gaa_ts=6851ad9e&gaa_sig=OdFAE7ijYnUYyOUvFB7o9uNAwtGMrUDdsaPIqJlnTq6O2L_s4HQUBYtPAWuMx_pAwXGcEDc18mkuUZq1gbvzjg%3D%3D',\n",
       "  'content': 'AWS Firms Bets on Asia AI Demand · OpenAI and Microsoft Tensions Are Reaching a Boiling Point · AI Wildfire Detection Startup Raises $44 Million · AI Companies',\n",
       "  'score': 0.58664185}]"
      ]
     },
     "execution_count": 7,
     "metadata": {},
     "output_type": "execute_result"
    }
   ],
   "source": [
    "tavily.invoke(\"Provide me the recent AI news?\")"
   ]
  },
  {
   "cell_type": "code",
   "execution_count": 8,
   "metadata": {},
   "outputs": [],
   "source": [
    "## combine all these tools in the list\n",
    "tools=[arxiv, wiki, tavily]"
   ]
  },
  {
   "cell_type": "code",
   "execution_count": 9,
   "metadata": {},
   "outputs": [],
   "source": [
    "## Initialize the LLM Model\n",
    "from langchain_groq import ChatGroq\n",
    "\n",
    "llm=ChatGroq(model=\"qwen-qwq-32b\")"
   ]
  },
  {
   "cell_type": "code",
   "execution_count": 10,
   "metadata": {},
   "outputs": [
    {
     "data": {
      "text/plain": [
       "AIMessage(content='\\n<think>\\nOkay, the user is asking \"What is AI?\" I need to explain it in simple terms. Let me start by defining AI as a branch of computer science. I should mention that it\\'s about making machines perform tasks that typically require human intelligence. Then I should break down the key areas of AI. Machine learning is important—maybe explain that it\\'s about learning from data. Also, mention subfields like natural language processing and computer vision. It\\'s good to give examples like virtual assistants and recommendation systems to make it relatable. I should touch on how AI works, maybe talk about data, algorithms, and training. Don\\'t forget to note that AI can be categorized as narrow or general, and mention ethical considerations like bias and privacy. Keep it clear and avoid jargon so it\\'s easy to understand.\\n</think>\\n\\nArtificial Intelligence (AI) refers to the simulation of human intelligence in machines that are programmed to perform tasks that typically require human cognition, such as learning, problem-solving, decision-making, and understanding language. These systems use algorithms and data to mimic human-like abilities, often improving their performance over time through experience.\\n\\n### Key Aspects of AI:\\n1. **Machine Learning**:  \\n   A subset of AI where systems learn patterns from data to make predictions or decisions without explicit programming. Examples include:\\n   - **Supervised Learning**: Training on labeled data (e.g., predicting house prices).\\n   - **Unsupervised Learning**: Finding hidden patterns in unlabeled data (e.g., customer segmentation).\\n   - **Reinforcement Learning**: Learning through trial-and-error by receiving rewards/punishments (e.g., game-playing AIs).\\n\\n2. **Applications**:  \\n   - **Natural Language Processing (NLP)**: Enables machines to understand and generate human language (e.g., chatbots, translation tools).\\n   - **Computer Vision**: Allows systems to interpret visual data (e.g., facial recognition, medical imaging analysis).\\n   - **Robotics**: Combines AI with physical machines to perform tasks in the real world (e.g., autonomous vehicles, industrial robots).\\n   - **Recommendation Systems**: Used by platforms like Netflix or Amazon to suggest content or products.\\n\\n3. **Types of AI**:  \\n   - **Narrow (Weak) AI**: Designed for specific tasks (e.g., Siri, spam filters).  \\n   - **General (Strong) AI**: Hypothetical systems with human-like consciousness and flexibility across tasks (not yet achieved).  \\n   - **Superintelligent AI**: A speculative future where AI surpasses human intelligence in all areas (debated and not currently possible).\\n\\n4. **How It Works**:  \\n   - **Data**: AI systems rely on large datasets to learn from examples.  \\n   - **Algorithms**: Mathematical models (e.g., neural networks) process data to identify patterns.  \\n   - **Training**: Systems improve by adjusting their parameters based on input and feedback.  \\n\\n### Challenges and Ethical Considerations:\\n- **Bias and Fairness**: AI can inherit biases from training data, leading to unfair outcomes (e.g., racial or gender discrimination).  \\n- **Privacy**: Use of personal data raises concerns about surveillance and misuse.  \\n- **Job Impact**: Automation may disrupt certain industries and jobs.  \\n- **Transparency**: \"Black box\" models (like deep learning) can be hard to interpret, making decisions seem opaque.  \\n\\n### Real-World Examples:\\n- **Virtual Assistants** (Siri, Alexa).  \\n- **Healthcare**: Diagnosing diseases from medical scans.  \\n- **Autonomous Vehicles**: Self-driving cars.  \\n- **Content Creation**: AI-generated art, music, or text (e.g., ChatGPT).  \\n\\nIn short, AI is a rapidly evolving field that blends computer science, data analysis, and logic to create systems capable of performing complex tasks. While it has immense potential, its development must address ethical, social, and technical challenges to ensure responsible use.', additional_kwargs={}, response_metadata={'token_usage': {'completion_tokens': 803, 'prompt_tokens': 13, 'total_tokens': 816, 'completion_time': 1.9532150430000002, 'prompt_time': 0.003147623, 'queue_time': 3.8976138750000002, 'total_time': 1.956362666}, 'model_name': 'qwen-qwq-32b', 'system_fingerprint': 'fp_1e88ca32eb', 'finish_reason': 'stop', 'logprobs': None}, id='run--e372b9cf-baa3-45d6-90fe-50f29d4da513-0', usage_metadata={'input_tokens': 13, 'output_tokens': 803, 'total_tokens': 816})"
      ]
     },
     "execution_count": 10,
     "metadata": {},
     "output_type": "execute_result"
    }
   ],
   "source": [
    "llm.invoke(\"What is AI\")"
   ]
  },
  {
   "cell_type": "code",
   "execution_count": 11,
   "metadata": {},
   "outputs": [],
   "source": [
    "llm_with_tools=llm.bind_tools(tools=tools)"
   ]
  },
  {
   "cell_type": "code",
   "execution_count": 12,
   "metadata": {},
   "outputs": [
    {
     "data": {
      "text/plain": [
       "AIMessage(content='', additional_kwargs={'tool_calls': [{'id': 'qkvqqdbfd', 'function': {'arguments': '{\"query\":\"recent news on AI\"}', 'name': 'tavily_search_results_json'}, 'type': 'function'}]}, response_metadata={'token_usage': {'completion_tokens': 239, 'prompt_tokens': 270, 'total_tokens': 509, 'completion_time': 0.597131943, 'prompt_time': 0.067179844, 'queue_time': 2.633945036, 'total_time': 0.664311787}, 'model_name': 'qwen-qwq-32b', 'system_fingerprint': 'fp_1e88ca32eb', 'finish_reason': 'tool_calls', 'logprobs': None}, id='run--40d7a6c5-5148-4bfb-b803-6ffe46729429-0', tool_calls=[{'name': 'tavily_search_results_json', 'args': {'query': 'recent news on AI'}, 'id': 'qkvqqdbfd', 'type': 'tool_call'}], usage_metadata={'input_tokens': 270, 'output_tokens': 239, 'total_tokens': 509})"
      ]
     },
     "execution_count": 12,
     "metadata": {},
     "output_type": "execute_result"
    }
   ],
   "source": [
    "## Execute this call\n",
    "llm_with_tools.invoke(\"What is the recent news on AI?\")"
   ]
  },
  {
   "cell_type": "code",
   "execution_count": 13,
   "metadata": {},
   "outputs": [],
   "source": [
    "## State Schema\n",
    "from typing_extensions import TypedDict\n",
    "from langchain_core.messages import AnyMessage ## Human message or AI message\n",
    "from typing import Annotated  ## labelling\n",
    "from langgraph.graph.message import add_messages  ## Reducers in Langgraph"
   ]
  },
  {
   "cell_type": "code",
   "execution_count": 14,
   "metadata": {},
   "outputs": [],
   "source": [
    "class State(TypedDict):\n",
    "    messages: Annotated[list[AnyMessage], add_messages]"
   ]
  },
  {
   "cell_type": "code",
   "execution_count": 15,
   "metadata": {},
   "outputs": [],
   "source": [
    "### Entire Chatbot With LangGraph\n",
    "from IPython.display import Image, display\n",
    "from langgraph.graph import StateGraph, START, END\n",
    "from langgraph.prebuilt import ToolNode\n",
    "from langgraph.prebuilt import tools_condition"
   ]
  },
  {
   "cell_type": "code",
   "execution_count": 16,
   "metadata": {},
   "outputs": [
    {
     "data": {
      "image/png": "[encoded data removed]",
      "text/plain": [
       "<IPython.core.display.Image object>"
      ]
     },
     "metadata": {},
     "output_type": "display_data"
    }
   ],
   "source": [
    "### Node definition\n",
    "def tool_calling_llm(state:State):\n",
    "    return {\"messages\":[llm_with_tools.invoke(state[\"messages\"])]}\n",
    "\n",
    "# Build graph\n",
    "builder = StateGraph(State)\n",
    "builder.add_node(\"tool_calling_llm\", tool_calling_llm)\n",
    "builder.add_node(\"tools\", ToolNode(tools))\n",
    "\n",
    "## Edgess\n",
    "builder.add_edge(START, \"tool_calling_llm\")\n",
    "builder.add_conditional_edges(\n",
    "    \"tool_calling_llm\",\n",
    "    # If the latest message (result) from assistant is a tool call -> tools_condition routes to tools\n",
    "    # If the latest message (result) from assistant is a not a tool call -> tools_condition routes to END\n",
    "    tools_condition,\n",
    ")\n",
    "builder.add_edge(\"tools\", END)\n",
    "\n",
    "graph = builder.compile()\n",
    "\n",
    "# View\n",
    "display(Image(graph.get_graph().draw_mermaid_png()))"
   ]
  },
  {
   "cell_type": "code",
   "execution_count": 17,
   "metadata": {},
   "outputs": [
    {
     "name": "stdout",
     "output_type": "stream",
     "text": [
      "================================\u001b[1m Human Message \u001b[0m=================================\n",
      "\n",
      "1706.03762\n",
      "==================================\u001b[1m Ai Message \u001b[0m==================================\n",
      "Tool Calls:\n",
      "  arxiv (znjtrve9g)\n",
      " Call ID: znjtrve9g\n",
      "  Args:\n",
      "    query: 1706.03762\n",
      "=================================\u001b[1m Tool Message \u001b[0m=================================\n",
      "Name: arxiv\n",
      "\n",
      "Published: 2023-08-02\n",
      "Title: Attention Is All You Need\n",
      "Authors: Ashish Vaswani, Noam Shazeer, Niki Parmar, Jakob Uszkoreit, Llion Jones, Aidan N. Gomez, Lukasz Kaiser, Illia Polosukhin\n",
      "Summary: The dominant sequence transduction models are based on complex recurrent or\n",
      "convolutional neural networks in an encoder-decoder configuration. The best\n",
      "performing models also connect the encoder and decoder through an attention\n",
      "mechanism. We propose a new simple network architecture, the Transformer, base\n"
     ]
    }
   ],
   "source": [
    "messages=graph.invoke({\"messages\":\"1706.03762\"})\n",
    "for m in messages['messages']:\n",
    "    m.pretty_print()"
   ]
  },
  {
   "cell_type": "code",
   "execution_count": 18,
   "metadata": {},
   "outputs": [
    {
     "name": "stdout",
     "output_type": "stream",
     "text": [
      "================================\u001b[1m Human Message \u001b[0m=================================\n",
      "\n",
      "Hi My name is Krish\n",
      "==================================\u001b[1m Ai Message \u001b[0m==================================\n",
      "\n",
      "Hello Krish! Nice to meet you. How can I assist you today? If you have any questions or need help with anything—like looking up research papers, finding information from Wikipedia, or searching the web—just let me know! 😊\n"
     ]
    }
   ],
   "source": [
    "messages=graph.invoke({\"messages\":\"Hi My name is Krish\"})\n",
    "for m in messages['messages']:\n",
    "    m.pretty_print()"
   ]
  },
  {
   "cell_type": "code",
   "execution_count": 19,
   "metadata": {},
   "outputs": [
    {
     "data": {
      "image/png": "[encoded data removed]",
      "text/plain": [
       "<IPython.core.display.Image object>"
      ]
     },
     "metadata": {},
     "output_type": "display_data"
    }
   ],
   "source": [
    "### Node definition\n",
    "def tool_calling_llm(state:State):\n",
    "    return {\"messages\":[llm_with_tools.invoke(state[\"messages\"])]}\n",
    "\n",
    "# Build graph\n",
    "builder = StateGraph(State)\n",
    "builder.add_node(\"tool_calling_llm\", tool_calling_llm)\n",
    "builder.add_node(\"tools\", ToolNode(tools))\n",
    "\n",
    "## Edgess\n",
    "builder.add_edge(START, \"tool_calling_llm\")\n",
    "builder.add_conditional_edges(\n",
    "    \"tool_calling_llm\",\n",
    "    # If the latest message (result) from assistant is a tool call -> tools_condition routes to tools\n",
    "    # If the latest message (result) from assistant is a not a tool call -> tools_condition routes to END\n",
    "    tools_condition,\n",
    ")\n",
    "builder.add_edge(\"tools\", \"tool_calling_llm\")\n",
    "\n",
    "graph = builder.compile()\n",
    "\n",
    "# View\n",
    "display(Image(graph.get_graph().draw_mermaid_png()))"
   ]
  },
  {
   "cell_type": "code",
   "execution_count": 20,
   "metadata": {},
   "outputs": [
    {
     "name": "stdout",
     "output_type": "stream",
     "text": [
      "================================\u001b[1m Human Message \u001b[0m=================================\n",
      "\n",
      "What is the recent AI news and then please tell me the recent research paper on quantum computing?\n",
      "==================================\u001b[1m Ai Message \u001b[0m==================================\n",
      "Tool Calls:\n",
      "  tavily_search_results_json (9w67m08z2)\n",
      " Call ID: 9w67m08z2\n",
      "  Args:\n",
      "    query: recent AI news\n",
      "  arxiv (xekhpmf6y)\n",
      " Call ID: xekhpmf6y\n",
      "  Args:\n",
      "    query: recent research paper on quantum computing\n",
      "=================================\u001b[1m Tool Message \u001b[0m=================================\n",
      "Name: tavily_search_results_json\n",
      "\n",
      "[{\"title\": \"AI News | Latest AI News, Analysis & Events\", \"url\": \"https://www.artificialintelligence-news.com/\", \"content\": \"Hugging Face partners with Groq for ultra-fast AI model inference · Meta buys stake in Scale AI, raising antitrust concerns · Ericsson and AWS bet on AI to\", \"score\": 0.71185225}, {\"title\": \"Artificial Intelligence | Latest News, Photos & Videos - WIRED\", \"url\": \"https://www.wired.com/tag/artificial-intelligence/\", \"content\": \"### Facing a Changing Industry, AI Activists Rethink Their Strategy\\n\\n![Demis Hassabis Embraces the Future of Work in the Age of AI](https://media.wired.com/photos/683e039d7fcbfb59910b6706/3:2/w_1280%2Cc_limit/DSC09515.jpg)\\n\\n### Demis Hassabis Embraces the Future of Work in the Age of AI\\n\\n### Deepfake Scams Are Distorting Reality Itself\\n\\n![The Rise of ‘Vibe Hacking’ Is the Next AI Nightmare](https://media.wired.com/photos/683dde00bb81c8212495c31b/3:2/w_1280%2Cc_limit/WIRED%2520STILL%252002.png) [...] ### AI Chatbots Are Making LA Protest Disinformation Worse\\n\\n![A Political Battle Is Brewing Over Data Centers](https://media.wired.com/photos/684036ef4c253f09088b983a/3:2/w_1280%2Cc_limit/GettyImages-2213382270.jpg)\\n\\n### A Political Battle Is Brewing Over Data Centers\\n\\n![Apple Is Pushing AI Into More of Its Products&-but Still Lacks a State-of-the-Art Model](https://media.wired.com/photos/684726c94c3cf40b5be20abf/3:2/w_1280%2Cc_limit/Apple-WWDC25-Apple-Intelligence-hero-250609.jpg)\", \"score\": 0.68874115}, {\"title\": \"AI News & Artificial Intelligence - TechCrunch\", \"url\": \"https://techcrunch.com/category/artificial-intelligence/\", \"content\": \"![CEO of Scale AI Alexandr Wang testifies during a House Armed Services Subcommittee on Cyber, Information Technologies and Innovation hearing about artificial intelligence on Capitol Hill July 18, 2023 in Washington, DC.](https://techcrunch.com/wp-content/uploads/2024/06/GettyImages-1540566330.jpg?w=562) [...] ### [Scale AI confirms ‘significant’ investment from Meta, says CEO Alexandr Wang is leaving](https://techcrunch.com/2025/06/13/scale-ai-confirms-significant-investment-from-meta-says-ceo-alexandr-wang-is-leaving/)\\n\\n![dripping Facebook Meta logo](https://techcrunch.com/wp-content/uploads/2021/12/dripping-meta-logo.jpg?w=668)\\n\\n### [The Meta AI app is a privacy disaster](https://techcrunch.com/2025/06/12/the-meta-ai-app-is-a-privacy-disaster/) [...] ![](https://techcrunch.com/wp-content/uploads/2024/09/tc-lockup.svg)\\n![](https://techcrunch.com/wp-content/uploads/2024/09/tc-logo-mobile.svg)\\n\\n### Topics\\n\\n[Latest](/latest/)\\n\\n[AI](/category/artificial-intelligence/)\\n\\n[Amazon](/tag/amazon/)\\n\\n[Apps](/category/apps/)\\n\\n[Biotech & Health](/category/biotech-health/)\\n\\n[Climate](/category/climate/)\\n\\n[Cloud Computing](/tag/cloud-computing/)\\n\\n[Commerce](/category/commerce/)\\n\\n[Crypto](/category/cryptocurrency/)\\n\\n[Enterprise](/category/enterprise/)\", \"score\": 0.6688159}, {\"title\": \"Artificial Intelligence - The New York Times\", \"url\": \"https://www.nytimes.com/spotlight/artificial-intelligence\", \"content\": \"A.I. has yet to upend Hollywood. But it is starting to make big inroads in animation.\\n\\n By Brooks Barnes\\n\\n![](https://static01.nyt.com/images/2025/04/14/14visualUploader-75672-cover/14visualUploader-75672-cover-square640-v2.jpg?auto=webp)\\n\\n[Google Unveils A.I. Chatbot, Signaling a New Era for Search](/2025/05/20/technology/personaltech/google-ai-mode-search.html)\\n\\nThe tech giant is taking its next big step in artificial intelligence by adding interactive capabilities to its flagship product. [...] By Tripp Mickle\\n\\n![Sundar Pichai, the chief executive of Google, spoke on Tuesday about the company’s plans to bring more generative A.I. abilities to its flagship search product during its annual developers conference. ](https://static01.nyt.com/images/2025/05/20/multimedia/20biz-google-sundar-lbtm/20biz-google-sundar-lbtm-square640.jpg?auto=webp)\\n\\n[A New App Uses A.I. to Speed Jewelry Design](/2025/05/20/fashion/jewelry-blng-artificial-intelligence-app.html) [...] ![Mark Zuckerberg’s new A.I. lab aims to hire some of the top A.I. researchers in the world.](https://static01.nyt.com/images/2025/06/12/multimedia/00biz-superintelligence-ljkv/00biz-superintelligence-ljkv-smallSquare252.jpg?auto=webp)\\n\\n### [This A.I. Company Wants to Take Your Job](/2025/06/11/technology/ai-mechanize-jobs.html)\\n\\nMechanize, a San Francisco start-up, is building artificial intelligence tools to automate white-collar jobs “as fast as possible.”\\n\\n By Kevin Roose\", \"score\": 0.6612456}, {\"title\": \"Artificial intelligence | Massachusetts Institute of Technology\", \"url\": \"https://news.mit.edu/topic/artificial-intelligence2\", \"content\": \"Forget optimists vs. Luddites. Most people evaluate AI based on its perceived capability and their need for personalization.\\n\\nJune 10, 2025\\n\\n[Read full story](/2025/how-we-really-judge-ai-0610) →\\n\\n![A package delivery drone in the air](/themes/mit/src/img/placeholder/placeholder--frontpage--featured-news.jpg)\\n\\n### [AI-enabled control system helps autonomous drones stay on target in uncertain environments](/2025/ai-enabled-control-system-helps-autonomous-drones-uncertain-environments-0609) [...] [Read full story](/2025/coactive-helps-machines-understand-visual-content-ai-0609) →\\n\\n![Stylized large language model with red, yellow, and green spheres.](/themes/mit/src/img/placeholder/placeholder--frontpage--featured-news.jpg)\\n\\n### [Teaching AI models what they don’t know](/2025/themis-ai-teaches-ai-models-what-they-dont-know-0603)\\n\\nA team of MIT researchers founded Themis AI to quantify AI model uncertainty and address knowledge gaps.\\n\\nJune 3, 2025 [...] The system automatically learns to adapt to unknown disturbances such as gusting winds.\\n\\nJune 9, 2025\\n\\n[Read full story](/2025/ai-enabled-control-system-helps-autonomous-drones-uncertain-environments-0609) →\\n\\n![Annaliese Meyer stands with her Envisioning the Future of Computing prize winner statue.](/themes/mit/src/img/placeholder/placeholder--frontpage--featured-news.jpg)\", \"score\": 0.6426349}]\n",
      "=================================\u001b[1m Tool Message \u001b[0m=================================\n",
      "Name: arxiv\n",
      "\n",
      "Published: 2022-03-05\n",
      "Title: Towards an Antivirus for Quantum Computers\n",
      "Authors: Sanjay Deshpande, Chuanqi Xu, Theodoros Trochatos, Yongshan Ding, Jakub Szefer\n",
      "Summary: Researchers are today exploring models for cloud-based usage of quantum\n",
      "computers where multi-tenancy can be used to share quantum computer hardware\n",
      "among multiple users. Multi-tenancy has a promise of allowing better\n",
      "utilization of the quantum computer hardware, but also opens up the quantum\n",
      "computer to new types of security att\n",
      "==================================\u001b[1m Ai Message \u001b[0m==================================\n",
      "\n",
      "Here’s the information based on the tools provided:\n",
      "\n",
      "---\n",
      "\n",
      "### **Recent AI News Highlights** (from Tavily Search Results):\n",
      "1. **Meta Invests in Scale AI Amid Antitrust Concerns** (June 2025):  \n",
      "   Scale AI announced a significant investment from Meta, with its CEO Alexandr Wang stepping down. This has raised antitrust scrutiny, as reported by TechCrunch.  \n",
      "\n",
      "2. **Google Unveils AI-Enhanced Search Features** (May 2025):  \n",
      "   Google introduced interactive AI capabilities in its search engine, marking a major step toward AI-driven search experiences.  \n",
      "\n",
      "3. **AI Privacy and Job Automation Concerns** (June 2025):  \n",
      "   - A startup called Mechanize aims to automate white-collar jobs using AI, sparking debates about labor impacts.  \n",
      "   - The NY Times highlighted privacy concerns around Meta’s new AI app, which critics argue invades user privacy.  \n",
      "\n",
      "4. **MIT Research on AI Uncertainty** (June 2025):  \n",
      "   MIT researchers developed a method to quantify AI model uncertainty, helping improve reliability in decision-making systems.  \n",
      "\n",
      "---\n",
      "\n",
      "### **Recent Quantum Computing Research Paper** (from ArXiv):  \n",
      "**Title:** *Towards an Antivirus for Quantum Computers*  \n",
      "**Authors:** Sanjay Deshpande, Chuanqi Xu, Theodoros Trochatos, Yongshan Ding, Jakub Szefer  \n",
      "**Published:** March 2022 (Note: This is the most recent paper retrieved from the query)  \n",
      "**Summary:**  \n",
      "This paper addresses cybersecurity for quantum computers in cloud-based, multi-tenant environments. It proposes methods to detect and mitigate attacks on shared quantum hardware, a critical issue as quantum computing moves toward commercial use.  \n",
      "\n",
      "---\n",
      "\n",
      "### Notes:  \n",
      "- The quantum computing paper is from 2022, which may not be the absolute latest, but it’s a foundational study in quantum security. For more recent papers, you might want to refine the search terms (e.g., \"quantum computing 2024 advances\").  \n",
      "- The AI news reflects updates up to June 2025, highlighting key developments in industry, ethics, and research.  \n",
      "\n",
      "Let me know if you’d like further details on any specific item!\n"
     ]
    }
   ],
   "source": [
    "messages=graph.invoke({\"messages\":\"What is the recent AI news and then please tell me the recent research paper on quantum computing?\"})\n",
    "for m in messages['messages']:\n",
    "    m.pretty_print()"
   ]
  }
 ],
 "metadata": {
  "kernelspec": {
   "display_name": "Python 3",
   "language": "python",
   "name": "python3"
  },
  "language_info": {
   "codemirror_mode": {
    "name": "ipython",
    "version": 3
   },
   "file_extension": ".py",
   "mimetype": "text/x-python",
   "name": "python",
   "nbconvert_exporter": "python",
   "pygments_lexer": "ipython3",
   "version": "3.11.9"
  }
 },
 "nbformat": 4,
 "nbformat_minor": 2
}
